{
 "cells": [
  {
   "cell_type": "markdown",
   "metadata": {},
   "source": [
    "<h1>Program to print a number is Prime or not using While Loop </h1>"
   ]
  },
  {
   "cell_type": "code",
   "execution_count": null,
   "metadata": {},
   "outputs": [],
   "source": [
    "num=int(input(\"Enter a number : \"));\n",
    "temp=2;\n",
    "isdivisible=False;\n",
    "\n",
    "while temp<num:\n",
    "    if(num%temp==0):\n",
    "        print(\"{} is divisible by {}\".format(num,temp));\n",
    "        isdivisible=True;\n",
    "    temp+=1;\n",
    "if isdivisible:\n",
    "    print(\"{} is not a prime number\".format(num));\n",
    "else:\n",
    "    print(\"{} is a prime number\".format(num));"
   ]
  },
  {
   "cell_type": "markdown",
   "metadata": {},
   "source": [
    "# Python Program to find the product of a number using while loop "
   ]
  },
  {
   "cell_type": "code",
   "execution_count": null,
   "metadata": {},
   "outputs": [],
   "source": [
    "n=int(input(\"Enter how many number you want to find the sum of : \"));\n",
    "l=[]\n",
    "while n:\n",
    "    l.append(int(input(\"Enter {} position number\".format(n))));\n",
    "    n-=1;\n",
    "print(l);\n",
    "pdt=1;\n",
    "index=0;\n",
    "while(index<len(l)):\n",
    "    pdt*=l[index];\n",
    "    index+=1;\n",
    "print(pdt);"
   ]
  },
  {
   "cell_type": "markdown",
   "metadata": {},
   "source": [
    "# Print the product of a list of numbers using for loop\n",
    "## we know that for loop can iterate over the list as list is iterable. "
   ]
  },
  {
   "cell_type": "code",
   "execution_count": null,
   "metadata": {},
   "outputs": [],
   "source": [
    "n=int(input(\"Enter the length of the list: \"));\n",
    "l=[];\n",
    "for i in range(n):\n",
    "    l.append(int(input(\"Enter the {}th position number\".format(i+1))));\n",
    "pdt=1;\n",
    "for ele in l:\n",
    "    pdt*=ele;\n",
    "print(\"The product of number in {} is {}\".format(l,pdt));"
   ]
  },
  {
   "cell_type": "markdown",
   "metadata": {},
   "source": [
    "# For and While Loop with else part "
   ]
  },
  {
   "cell_type": "code",
   "execution_count": null,
   "metadata": {},
   "outputs": [],
   "source": [
    "lst=[1,2,3,4,5];\n",
    "for ele in lst:\n",
    "    print(ele);\n",
    "else:\n",
    "    print(\"No element left in the list\");\n",
    "\n",
    "index=0;\n",
    "while index<len(lst):\n",
    "    print(lst[index]);\n",
    "    index+=1;\n",
    "else: print(\"No item left in the list\");"
   ]
  },
  {
   "cell_type": "markdown",
   "metadata": {},
   "source": [
    "# Python program to print all prime numbers within a range"
   ]
  },
  {
   "cell_type": "code",
   "execution_count": null,
   "metadata": {},
   "outputs": [],
   "source": [
    "start=int(input(\"Enter the starting point: \"));\n",
    "end=int(input(\"Enter the ending point: \"));\n",
    "print(\"Prime numbers between {} and {}\".format(start,end));\n",
    "for num in range(start,end+1):\n",
    "    if(num>1):\n",
    "        isdivisible=False;\n",
    "        for i in range(2,num):\n",
    "            if(num%i==0):\n",
    "                isdivisible=True;\n",
    "        if isdivisible:\n",
    "            print(\"{} is not prime number\".format(num));\n",
    "        else:\n",
    "            print(\"{} is prime number\".format(num));\n",
    "else:\n",
    "    print(\"Prime number for 0 and negative number is not possible\");\n",
    "    \n"
   ]
  },
  {
   "cell_type": "markdown",
   "metadata": {},
   "source": [
    "# Python Program for Explaining Break Statement "
   ]
  },
  {
   "cell_type": "code",
   "execution_count": 37,
   "metadata": {},
   "outputs": [
    {
     "name": "stdout",
     "output_type": "stream",
     "text": [
      "1\n",
      "2\n",
      "3\n",
      "Outside of for loop\n"
     ]
    }
   ],
   "source": [
    "lst=[1,2,3,4,5]\n",
    "\n",
    "for num in lst:\n",
    "    if num==4:\n",
    "        break;\n",
    "    else:\n",
    "        print(num);\n",
    "else:\n",
    "    print(\"End of for loop\");\n",
    "print(\"Outside of for loop\");"
   ]
  },
  {
   "cell_type": "code",
   "execution_count": 41,
   "metadata": {},
   "outputs": [
    {
     "name": "stdout",
     "output_type": "stream",
     "text": [
      "8 is divisible by 2\n",
      "8 is not a prime number\n"
     ]
    }
   ],
   "source": [
    "#checking a number is prime or not, here we use Break Statement\n",
    "num=int(input(\"Enter a number : \"));\n",
    "isdivisible=False;\n",
    "temp=2;\n",
    "while temp<num:\n",
    "    if(num%temp==0):\n",
    "        isdivisible=True;\n",
    "        print(\"{} is divisible by {}\".format(num,temp));\n",
    "        break;\n",
    "    temp+=1;\n",
    "if isdivisible:\n",
    "    print(\"{} is not a prime number\".format(num));\n",
    "else:\n",
    "    print(\"{} is a prime number \".format(num));"
   ]
  },
  {
   "cell_type": "markdown",
   "metadata": {},
   "source": [
    "# Python program for Explaining Continue Statement "
   ]
  },
  {
   "cell_type": "code",
   "execution_count": 42,
   "metadata": {},
   "outputs": [
    {
     "name": "stdout",
     "output_type": "stream",
     "text": [
      "1\n",
      "2\n",
      "3\n",
      "5\n",
      "End of the For Loop\n"
     ]
    }
   ],
   "source": [
    "lst=[1,2,3,4,5]\n",
    "for num in lst:\n",
    "    if num==4:\n",
    "        continue;\n",
    "    else:\n",
    "        print(num);\n",
    "else:\n",
    "    print(\"End of the For Loop\");"
   ]
  },
  {
   "cell_type": "code",
   "execution_count": 43,
   "metadata": {},
   "outputs": [
    {
     "name": "stdout",
     "output_type": "stream",
     "text": [
      "1\n",
      "3\n",
      "5\n",
      "End of the for loop\n"
     ]
    }
   ],
   "source": [
    "lst=[1,2,3,4,5,6]\n",
    "for num in lst:\n",
    "    if num%2==0:\n",
    "        continue;\n",
    "    print(num);\n",
    "else:\n",
    "    print(\"End of the for loop\");"
   ]
  }
 ],
 "metadata": {
  "interpreter": {
   "hash": "a94cb8a17de1e532d431b0be83bf665b09cfcc9ac1d9ac0f30f86e2055d015be"
  },
  "kernelspec": {
   "display_name": "Python 3.7.6 64-bit ('base': conda)",
   "language": "python",
   "name": "python3"
  },
  "language_info": {
   "codemirror_mode": {
    "name": "ipython",
    "version": 3
   },
   "file_extension": ".py",
   "mimetype": "text/x-python",
   "name": "python",
   "nbconvert_exporter": "python",
   "pygments_lexer": "ipython3",
   "version": "3.7.6"
  },
  "orig_nbformat": 4
 },
 "nbformat": 4,
 "nbformat_minor": 2
}
