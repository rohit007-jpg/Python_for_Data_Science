{
 "cells": [
  {
   "cell_type": "markdown",
   "metadata": {},
   "source": [
    "# Closures"
   ]
  },
  {
   "cell_type": "markdown",
   "metadata": {},
   "source": [
    "__ Nonlocal variable in a nested function__:\n",
    "\n",
    "\n",
    "Before getting into what a closure is, we have to first understand what a __nested function__ and __nonlocal variable__ is.\n",
    "\n",
    "A function defined inside another function is called a __nested function__. Nested functions can access variables of the enclosing scope.\n",
    "\n",
    "In Python, these non-local variables are read only by default and we must declare them explicitly as non-local (using nonlocal keyword) in order to modify them."
   ]
  },
  {
   "cell_type": "code",
   "execution_count": 1,
   "metadata": {},
   "outputs": [
    {
     "name": "stdout",
     "output_type": "stream",
     "text": [
      "Hello\n"
     ]
    }
   ],
   "source": [
    "#example of a nested function accessing a non-local variable.\n",
    "\n",
    "def print_message(msg):\n",
    "    \n",
    "    #nested function\n",
    "    def printer():\n",
    "        print msg\n",
    "    \n",
    "    printer()\n",
    "    \n",
    "print_message(\"Hello\")\n",
    "        "
   ]
  },
  {
   "cell_type": "markdown",
   "metadata": {},
   "source": [
    "A Closure is a function object that remembers values in enclosing scopes even if they are not present in memory."
   ]
  },
  {
   "cell_type": "markdown",
   "metadata": {},
   "source": [
    "# Defining Closure Function"
   ]
  },
  {
   "cell_type": "code",
   "execution_count": 2,
   "metadata": {},
   "outputs": [
    {
     "name": "stdout",
     "output_type": "stream",
     "text": [
      "Hello\n"
     ]
    }
   ],
   "source": [
    "def print_message(msg):\n",
    "    \n",
    "    #nested function\n",
    "    def printer():\n",
    "        print msg\n",
    "    \n",
    "    return printer\n",
    "    \n",
    "another = print_message(\"Hello\")\n",
    "another()"
   ]
  },
  {
   "cell_type": "markdown",
   "metadata": {},
   "source": [
    "As observed from above code, closures help to invoke function outside their scope.\n",
    "\n",
    "The function __printer__ has its scope only inside the __print_message__. \n",
    "\n",
    "But with the use of closures we can easily extend its scope to invoke a function outside its scope."
   ]
  },
  {
   "cell_type": "markdown",
   "metadata": {},
   "source": [
    "# When do we have a closure?"
   ]
  },
  {
   "cell_type": "markdown",
   "metadata": {},
   "source": [
    "We must have a nested function (function inside a function).\n",
    "\n",
    "The nested function must refer to a value defined in the enclosing function.\n",
    "\n",
    "The enclosing function must return the nested function."
   ]
  },
  {
   "cell_type": "markdown",
   "metadata": {},
   "source": [
    "# When to Use Closures?"
   ]
  },
  {
   "cell_type": "markdown",
   "metadata": {},
   "source": [
    "Closures can avoid the use of global values and provides some form of data hiding. It can also provide an object oriented solution to the problem.\n",
    "\n",
    "When there are few methods (one method in most cases) to be implemented in a class, closures can provide an alternate and more elegant solutions. But when the number of attributes and methods get larger, better implement a class."
   ]
  }
 ],
 "metadata": {
  "kernelspec": {
   "display_name": "Python 2",
   "language": "python",
   "name": "python2"
  },
  "language_info": {
   "codemirror_mode": {
    "name": "ipython",
    "version": 2
   },
   "file_extension": ".py",
   "mimetype": "text/x-python",
   "name": "python",
   "nbconvert_exporter": "python",
   "pygments_lexer": "ipython2",
   "version": "2.7.10"
  }
 },
 "nbformat": 4,
 "nbformat_minor": 2
}
