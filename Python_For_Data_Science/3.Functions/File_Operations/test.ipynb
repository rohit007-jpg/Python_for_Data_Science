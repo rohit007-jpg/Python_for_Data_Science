{
 "cells": [
  {
   "cell_type": "code",
   "execution_count": 57,
   "metadata": {},
   "outputs": [],
   "source": [
    "# try:\n",
    "f=open('example.txt',\"r\")\n",
    "    #f.write(\"This is a text file. \\nThis is test 001\")\n",
    "f.read(10)\n",
    "f.close()\n",
    "# finally:\n",
    "#     f.close()\n",
    "\n"
   ]
  },
  {
   "cell_type": "code",
   "execution_count": 58,
   "metadata": {},
   "outputs": [
    {
     "ename": "ValueError",
     "evalue": "I/O operation on closed file.",
     "output_type": "error",
     "traceback": [
      "\u001b[1;31m---------------------------------------------------------------------------\u001b[0m",
      "\u001b[1;31mValueError\u001b[0m                                Traceback (most recent call last)",
      "\u001b[1;32m<ipython-input-58-8013280f4ff8>\u001b[0m in \u001b[0;36m<module>\u001b[1;34m\u001b[0m\n\u001b[1;32m----> 1\u001b[1;33m \u001b[0mf\u001b[0m\u001b[1;33m.\u001b[0m\u001b[0mread\u001b[0m\u001b[1;33m(\u001b[0m\u001b[1;36m5\u001b[0m\u001b[1;33m)\u001b[0m\u001b[1;33m\u001b[0m\u001b[1;33m\u001b[0m\u001b[0m\n\u001b[0m",
      "\u001b[1;31mValueError\u001b[0m: I/O operation on closed file."
     ]
    }
   ],
   "source": [
    "f.read(5)"
   ]
  },
  {
   "cell_type": "code",
   "execution_count": null,
   "metadata": {},
   "outputs": [],
   "source": [
    "f.tell()"
   ]
  },
  {
   "cell_type": "code",
   "execution_count": null,
   "metadata": {},
   "outputs": [],
   "source": [
    "f.seek(5)"
   ]
  },
  {
   "cell_type": "code",
   "execution_count": null,
   "metadata": {},
   "outputs": [],
   "source": [
    "f.seek(0)\n",
    "for line in f:\n",
    "    print(line);\n",
    "\n",
    "f.close()"
   ]
  },
  {
   "cell_type": "code",
   "execution_count": null,
   "metadata": {},
   "outputs": [],
   "source": [
    "try:\n",
    "    f=open(\"example.txt\",\"r\")\n",
    "    print(f.readlines())\n",
    "finally:\n",
    "    f.close()"
   ]
  },
  {
   "cell_type": "code",
   "execution_count": 1,
   "metadata": {},
   "outputs": [],
   "source": [
    "import os\n",
    "os.rename(\"example.txt\",\"test001.txt\")"
   ]
  },
  {
   "cell_type": "code",
   "execution_count": 3,
   "metadata": {},
   "outputs": [
    {
     "data": {
      "text/plain": [
       "'This is a text file. \\nThis is test 001'"
      ]
     },
     "execution_count": 3,
     "metadata": {},
     "output_type": "execute_result"
    }
   ],
   "source": [
    "f=open(\"test001.txt\")\n",
    "f.read()"
   ]
  },
  {
   "cell_type": "code",
   "execution_count": 5,
   "metadata": {},
   "outputs": [],
   "source": [
    "f.close()\n",
    "os.remove(\"test001.txt\")"
   ]
  },
  {
   "cell_type": "code",
   "execution_count": 17,
   "metadata": {},
   "outputs": [
    {
     "data": {
      "text/plain": [
       "38"
      ]
     },
     "execution_count": 17,
     "metadata": {},
     "output_type": "execute_result"
    }
   ],
   "source": [
    "f=open(\"example.txt\",\"w\")\n",
    "f.write(\"This is a text file. \\nThis is test 001\")\n"
   ]
  },
  {
   "cell_type": "code",
   "execution_count": 18,
   "metadata": {},
   "outputs": [],
   "source": [
    "f.close()"
   ]
  },
  {
   "cell_type": "code",
   "execution_count": 19,
   "metadata": {},
   "outputs": [
    {
     "name": "stdout",
     "output_type": "stream",
     "text": [
      "This is a text file. \n",
      "\n",
      "This is test 001\n"
     ]
    }
   ],
   "source": [
    "try:\n",
    "    f=open(\"example.txt\",\"r\");\n",
    "    for line in f:\n",
    "        print(line)\n",
    "finally:\n",
    "    f.close();"
   ]
  },
  {
   "cell_type": "code",
   "execution_count": 22,
   "metadata": {},
   "outputs": [
    {
     "data": {
      "text/plain": [
       "'c:\\\\Users\\\\ROHJHA\\\\Downloads\\\\Python_for_Data_Science\\\\Python_For_Data_Science\\\\3.Functions\\\\File_Operations'"
      ]
     },
     "execution_count": 22,
     "metadata": {},
     "output_type": "execute_result"
    }
   ],
   "source": [
    "os.getcwd()"
   ]
  },
  {
   "cell_type": "code",
   "execution_count": 23,
   "metadata": {},
   "outputs": [
    {
     "data": {
      "text/plain": [
       "['example.txt', 'File_IO-checkpoint.ipynb', 'test.ipynb', 'test.txt']"
      ]
     },
     "execution_count": 23,
     "metadata": {},
     "output_type": "execute_result"
    }
   ],
   "source": [
    "os.listdir()"
   ]
  },
  {
   "cell_type": "code",
   "execution_count": 24,
   "metadata": {},
   "outputs": [
    {
     "data": {
      "text/plain": [
       "['example.txt', 'File_IO-checkpoint.ipynb', 'test.ipynb', 'test.txt']"
      ]
     },
     "execution_count": 24,
     "metadata": {},
     "output_type": "execute_result"
    }
   ],
   "source": [
    "os.listdir(os.getcwd())"
   ]
  },
  {
   "cell_type": "code",
   "execution_count": 27,
   "metadata": {},
   "outputs": [],
   "source": [
    "os.mkdir(\"test001\")"
   ]
  },
  {
   "cell_type": "code",
   "execution_count": 28,
   "metadata": {},
   "outputs": [],
   "source": [
    "os.rmdir(\"test001\")"
   ]
  },
  {
   "cell_type": "code",
   "execution_count": 31,
   "metadata": {},
   "outputs": [
    {
     "name": "stdout",
     "output_type": "stream",
     "text": [
      "The value you have entered is  a\n",
      "Opps!!!  <class 'ValueError'> Occured\n",
      "Next Entry\n",
      "=================================================\n",
      "The value you have entered is  0\n",
      "Opps!!!  <class 'ZeroDivisionError'> Occured\n",
      "Next Entry\n",
      "=================================================\n",
      "The value you have entered is  2\n",
      "The reciprocal of the number is 0.50\n"
     ]
    }
   ],
   "source": [
    "import sys\n",
    "\n",
    "lst=['a',0,2];\n",
    "\n",
    "for ele in lst:\n",
    "    try:\n",
    "        print(\"The value you have entered is \",ele);\n",
    "        r=1/int(ele);\n",
    "    except:\n",
    "        print(\"Opps!!! \", sys.exc_info()[0],\"Occured\");\n",
    "        print(\"Next Entry\");\n",
    "        print(\"=================================================\");\n",
    "print(\"The reciprocal of the number is {:.2f}\".format(r));\n",
    "\n"
   ]
  },
  {
   "cell_type": "code",
   "execution_count": 34,
   "metadata": {},
   "outputs": [
    {
     "name": "stdout",
     "output_type": "stream",
     "text": [
      "===========================================\n",
      "The input is a\n",
      "Value Error Occured !!!\n",
      "===========================================\n",
      "The input is 0\n",
      "Zero Division Error Occured !!!\n",
      "===========================================\n",
      "The input is 2\n",
      "The reciprocal of 2 is 0.5\n"
     ]
    }
   ],
   "source": [
    "lst=['a',0,2];\n",
    "\n",
    "for ele in lst:\n",
    "    try:\n",
    "        print(\"===========================================\");\n",
    "        print(\"The input is {}\".format(ele));\n",
    "        r=1/int(ele);\n",
    "        print(\"The reciprocal of {} is {}\".format(ele,r));\n",
    "    except(ValueError):\n",
    "        print(\"Value Error Occured !!!\");\n",
    "    except(ZeroDivisionError):\n",
    "        print(\"Zero Division Error Occured !!!\");\n",
    "    except:\n",
    "        print(\"Some Error Occured !!!\");\n",
    "\n",
    "    "
   ]
  }
 ],
 "metadata": {
  "interpreter": {
   "hash": "a94cb8a17de1e532d431b0be83bf665b09cfcc9ac1d9ac0f30f86e2055d015be"
  },
  "kernelspec": {
   "display_name": "Python 3.7.6 64-bit ('base': conda)",
   "language": "python",
   "name": "python3"
  },
  "language_info": {
   "codemirror_mode": {
    "name": "ipython",
    "version": 3
   },
   "file_extension": ".py",
   "mimetype": "text/x-python",
   "name": "python",
   "nbconvert_exporter": "python",
   "pygments_lexer": "ipython3",
   "version": "3.7.6"
  },
  "orig_nbformat": 4
 },
 "nbformat": 4,
 "nbformat_minor": 2
}
