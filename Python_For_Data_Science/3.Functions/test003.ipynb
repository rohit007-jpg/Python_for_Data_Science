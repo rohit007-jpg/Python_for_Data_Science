{
 "cells": [
  {
   "cell_type": "code",
   "execution_count": 8,
   "metadata": {},
   "outputs": [
    {
     "name": "stdout",
     "output_type": "stream",
     "text": [
      "range(stop) -> range object\n",
      "range(start, stop[, step]) -> range object\n",
      "\n",
      "Return an object that produces a sequence of integers from start (inclusive)\n",
      "to stop (exclusive) by step.  range(i, j) produces i, i+1, i+2, ..., j-1.\n",
      "start defaults to 0, and stop is omitted!  range(4) produces 0, 1, 2, 3.\n",
      "These are exactly the valid indices for a list of 4 elements.\n",
      "When step is given, it specifies the increment (or decrement).\n"
     ]
    }
   ],
   "source": [
    "print(range.__doc__)\n"
   ]
  },
  {
   "cell_type": "markdown",
   "metadata": {},
   "source": [
    "# Find HCF of two number using Python "
   ]
  },
  {
   "cell_type": "code",
   "execution_count": 9,
   "metadata": {},
   "outputs": [
    {
     "name": "stdout",
     "output_type": "stream",
     "text": [
      "The HCF of 2 and 4 is 2\n",
      "\n",
      "    This funtion computes the HCF of the two number.\n",
      "    HCF of two number is the largest number which can divide both the number \n",
      "    Logically, we don't need to check beyond the smaller number as we are checking largest number which can \n",
      "    divide both the numbers. \n",
      "    \n"
     ]
    }
   ],
   "source": [
    "num1=int(input(\"Enter the 1st number: \"));\n",
    "num2=int(input(\"Enter the 2nd number: \"));\n",
    "\n",
    "smaller_number=num1 if num1<num2 else num2\n",
    "\n",
    "def compute_hcf(num1,num2):\n",
    "    \"\"\"\n",
    "    This funtion computes the HCF of the two number.\n",
    "    HCF of two number is the largest number which can divide both the number \n",
    "    Logically, we don't need to check beyond the smaller number as we are checking largest number which can \n",
    "    divide both the numbers. \n",
    "    \"\"\"\n",
    "    hcf=1;\n",
    "    for i in range(1,smaller_number+1):\n",
    "        if num1%i==0 and num2%i==0:\n",
    "            hcf=i;\n",
    "    return hcf;\n",
    "\n",
    "hcf=compute_hcf(num1,num2);\n",
    "print(\"The HCF of {0} and {1} is {2}\".format(num1,num2,hcf));\n",
    "\n",
    "print(compute_hcf.__doc__)"
   ]
  },
  {
   "cell_type": "markdown",
   "metadata": {},
   "source": [
    "# Finding the HCF of two number using List Comprehension "
   ]
  },
  {
   "cell_type": "code",
   "execution_count": 10,
   "metadata": {},
   "outputs": [
    {
     "name": "stdout",
     "output_type": "stream",
     "text": [
      "HCF of 2 and 3 is 1\n"
     ]
    }
   ],
   "source": [
    "num1=int(input(\"Enter the 1st number : \"));\n",
    "num2=int(input(\"Enter the 2nd number : \"));\n",
    "\n",
    "hcf = max([i for i in range(1,max(num1,num2)) if num1%i==0 and num2%i==0])\n",
    "\n",
    "\"\"\"\n",
    "Here, we are finding the max number which can divide both the number, we are checking till the smaller number. \n",
    "\"\"\"\n",
    "print(\"HCF of {0} and {1} is {2}\".format(num1,num2,hcf))"
   ]
  },
  {
   "cell_type": "code",
   "execution_count": 11,
   "metadata": {},
   "outputs": [
    {
     "name": "stdout",
     "output_type": "stream",
     "text": [
      "['__class__', '__contains__', '__delattr__', '__delitem__', '__dir__', '__doc__', '__eq__', '__format__', '__ge__', '__getattribute__', '__getitem__', '__gt__', '__hash__', '__init__', '__init_subclass__', '__iter__', '__le__', '__len__', '__lt__', '__ne__', '__new__', '__reduce__', '__reduce_ex__', '__repr__', '__reversed__', '__setattr__', '__setitem__', '__sizeof__', '__str__', '__subclasshook__', 'clear', 'copy', 'fromkeys', 'get', 'items', 'keys', 'pop', 'popitem', 'setdefault', 'update', 'values']\n"
     ]
    }
   ],
   "source": [
    "print(dir(dict))"
   ]
  },
  {
   "cell_type": "code",
   "execution_count": 12,
   "metadata": {},
   "outputs": [
    {
     "name": "stdout",
     "output_type": "stream",
     "text": [
      "[-10, -9, -8, -7, -6, -5, -4, -3, -2, -1, 0, 1, 2, 3, 4, 5, 6, 7, 8, 9]\n",
      "[100, 81, 64, 49, 36, 25, 16, 9, 4, 1, 0, 1, 4, 9, 16, 25, 36, 49, 64, 81]\n",
      "[1, 2, 3, 4, 5, 6, 7, 8, 9]\n"
     ]
    }
   ],
   "source": [
    "num=range(-10,10);\n",
    "print(list(num))\n",
    "def squared_num(num):\n",
    "    return(num**2);\n",
    "def positive_num(num):\n",
    "    if num>0:\n",
    "        return num;\n",
    "\n",
    "number=list(map(squared_num,num));\n",
    "pos_num=list(filter(positive_num,num))\n",
    "print(number);\n",
    "print(pos_num);"
   ]
  },
  {
   "cell_type": "code",
   "execution_count": 13,
   "metadata": {},
   "outputs": [
    {
     "name": "stdout",
     "output_type": "stream",
     "text": [
      "[-10, -9, -8, -7, -6, -5, -4, -3, -2, -1, 0, 1, 2, 3, 4, 5, 6, 7, 8, 9]\n",
      "[2, 4, 6, 8]\n"
     ]
    }
   ],
   "source": [
    "num=range(-10,10);\n",
    "print(list(num));\n",
    "def even_num(num):\n",
    "    if(num>0 and num%2==0):\n",
    "        return num;\n",
    "even=list(filter(even_num,num));\n",
    "print(even);"
   ]
  },
  {
   "cell_type": "code",
   "execution_count": 14,
   "metadata": {},
   "outputs": [
    {
     "name": "stdout",
     "output_type": "stream",
     "text": [
      "2\n"
     ]
    }
   ],
   "source": [
    "from functools import reduce\n",
    "end=int(input(\"Enter the number : \"));\n",
    "num=range(1,end+1);\n",
    "sum=0;\n",
    "def fact(x,y):\n",
    "    return x*y\n",
    "res= reduce(fact,num);\n",
    "print(res); "
   ]
  },
  {
   "cell_type": "code",
   "execution_count": 15,
   "metadata": {},
   "outputs": [
    {
     "name": "stdout",
     "output_type": "stream",
     "text": [
      "The fibonacci of 2 is :  0 1 "
     ]
    }
   ],
   "source": [
    "num=int(input(\"Enter the range : \"));\n",
    "\n",
    "def fib(num):\n",
    "    return num if num<=1 else fib(num-1)+fib(num-2);\n",
    "\n",
    "print(\"The fibonacci of {} is : \".format(num),end=\" \");\n",
    "for i in range(num):\n",
    "    print(fib(i),end=\" \");"
   ]
  },
  {
   "cell_type": "code",
   "execution_count": 16,
   "metadata": {},
   "outputs": [
    {
     "name": "stdout",
     "output_type": "stream",
     "text": [
      "120\n"
     ]
    }
   ],
   "source": [
    "from functools import reduce\n",
    "num=range(1,6)\n",
    "\n",
    "def fact(x,y):\n",
    "    return x*y;\n",
    "\n",
    "res= reduce(fact,num)\n",
    "print(res)"
   ]
  },
  {
   "cell_type": "code",
   "execution_count": 26,
   "metadata": {},
   "outputs": [
    {
     "name": "stdout",
     "output_type": "stream",
     "text": [
      "5\n",
      "6\n",
      "120\n"
     ]
    },
    {
     "data": {
      "text/plain": [
       "720"
      ]
     },
     "execution_count": 26,
     "metadata": {},
     "output_type": "execute_result"
    }
   ],
   "source": [
    "import example\n",
    "\n",
    "print(example.add(2,3))\n",
    "\n",
    "print(example.mul(2,3))\n",
    "\n",
    "print(example.fact(5))\n",
    "\n",
    "example.fact(6)"
   ]
  },
  {
   "cell_type": "code",
   "execution_count": 27,
   "metadata": {},
   "outputs": [
    {
     "name": "stdout",
     "output_type": "stream",
     "text": [
      "['__builtins__', '__cached__', '__doc__', '__file__', '__loader__', '__name__', '__package__', '__spec__', 'add', 'fact', 'mul']\n",
      "\n",
      "    This is a test module named example which is used to see how exactly modules work in python \n",
      "    and how we can use them by importing to our program. \n",
      "    Here, we define function named ---> add(x,y), mul(x,y) and fact(num)\n",
      "    \n",
      "\n",
      "\n",
      "    function add takes two arg x and y and returns x+y\n",
      "    \n"
     ]
    }
   ],
   "source": [
    "print(dir(example))\n",
    "\n",
    "print(example.__doc__)\n",
    "\n",
    "print(example.add.__doc__)"
   ]
  },
  {
   "cell_type": "code",
   "execution_count": 19,
   "metadata": {},
   "outputs": [
    {
     "data": {
      "text/plain": [
       "720"
      ]
     },
     "execution_count": 19,
     "metadata": {},
     "output_type": "execute_result"
    }
   ],
   "source": [
    "from testmodule import fact\n",
    "\n",
    "fact(6)\n"
   ]
  },
  {
   "cell_type": "code",
   "execution_count": 33,
   "metadata": {},
   "outputs": [
    {
     "name": "stdout",
     "output_type": "stream",
     "text": [
      "The value of PI is 3.142\n"
     ]
    }
   ],
   "source": [
    "import math \n",
    "\n",
    "print(\"The value of PI is {:.3f}\".format(math.pi))"
   ]
  }
 ],
 "metadata": {
  "interpreter": {
   "hash": "a94cb8a17de1e532d431b0be83bf665b09cfcc9ac1d9ac0f30f86e2055d015be"
  },
  "kernelspec": {
   "display_name": "Python 3.7.6 64-bit ('base': conda)",
   "language": "python",
   "name": "python3"
  },
  "language_info": {
   "codemirror_mode": {
    "name": "ipython",
    "version": 3
   },
   "file_extension": ".py",
   "mimetype": "text/x-python",
   "name": "python",
   "nbconvert_exporter": "python",
   "pygments_lexer": "ipython3",
   "version": "3.8.1"
  },
  "orig_nbformat": 4
 },
 "nbformat": 4,
 "nbformat_minor": 2
}
