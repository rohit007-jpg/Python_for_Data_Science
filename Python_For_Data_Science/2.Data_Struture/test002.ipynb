{
 "cells": [
  {
   "cell_type": "markdown",
   "metadata": {},
   "source": [
    "# Python Program for Transpose of a given Matrix "
   ]
  },
  {
   "cell_type": "code",
   "execution_count": 14,
   "metadata": {},
   "outputs": [
    {
     "name": "stdout",
     "output_type": "stream",
     "text": [
      "we are going to take the  0 th element of each row\n",
      "the row we are considering : [1, 2, 3, 4] and we are going to add 1 to a temporary list\n",
      "the row we are considering : [5, 6, 7, 8] and we are going to add 5 to a temporary list\n",
      "the row we are considering : [9, 10, 11, 12] and we are going to add 9 to a temporary list\n",
      "the  0 th column elements =  0 th elements in every row are = [1, 5, 9]\n",
      "==========================================================================================\n",
      "we are going to take the  1 th element of each row\n",
      "the row we are considering : [1, 2, 3, 4] and we are going to add 2 to a temporary list\n",
      "the row we are considering : [5, 6, 7, 8] and we are going to add 6 to a temporary list\n",
      "the row we are considering : [9, 10, 11, 12] and we are going to add 10 to a temporary list\n",
      "the  1 th column elements =  1 th elements in every row are = [2, 6, 10]\n",
      "==========================================================================================\n",
      "we are going to take the  2 th element of each row\n",
      "the row we are considering : [1, 2, 3, 4] and we are going to add 3 to a temporary list\n",
      "the row we are considering : [5, 6, 7, 8] and we are going to add 7 to a temporary list\n",
      "the row we are considering : [9, 10, 11, 12] and we are going to add 11 to a temporary list\n",
      "the  2 th column elements =  2 th elements in every row are = [3, 7, 11]\n",
      "==========================================================================================\n",
      "we are going to take the  3 th element of each row\n",
      "the row we are considering : [1, 2, 3, 4] and we are going to add 4 to a temporary list\n",
      "the row we are considering : [5, 6, 7, 8] and we are going to add 8 to a temporary list\n",
      "the row we are considering : [9, 10, 11, 12] and we are going to add 12 to a temporary list\n",
      "the  3 th column elements =  3 th elements in every row are = [4, 8, 12]\n",
      "==========================================================================================\n",
      "[[1, 5, 9], [2, 6, 10], [3, 7, 11], [4, 8, 12]]\n"
     ]
    }
   ],
   "source": [
    "matrix = [\n",
    "\n",
    "[1, 2, 3, 4],\n",
    "\n",
    "[5, 6, 7, 8],\n",
    "\n",
    "[9, 10, 11, 12]]\n",
    "\n",
    "transposed = []\n",
    "\n",
    "for i in range(4):\n",
    "\n",
    "\tprint(\"we are going to take the \",i,\"th element of each row\")\n",
    "\n",
    "\tlst = []\n",
    "\n",
    "\tfor row in matrix:\n",
    "\n",
    "\t\tprint(\"the row we are considering :\", row, \"and we are going to add\", row[i],\"to a temporary list\")\n",
    "\n",
    "\t\tlst.append(row[i])\n",
    "\n",
    "\tprint(\"the \",i,\"th column elements = \", i ,\"th elements in every row are =\", lst)\n",
    "\n",
    "\ttransposed.append(lst)\n",
    "\n",
    "\tprint(\"=\"*90)\n",
    "\n",
    "print(transposed)"
   ]
  },
  {
   "cell_type": "markdown",
   "metadata": {},
   "source": [
    "# Python Program to find the Transpose of a matrix using List Comprehension "
   ]
  },
  {
   "cell_type": "code",
   "execution_count": 13,
   "metadata": {},
   "outputs": [
    {
     "name": "stdout",
     "output_type": "stream",
     "text": [
      "[[1, 5, 9], [2, 6, 10], [3, 7, 11], [4, 8, 12]]\n"
     ]
    }
   ],
   "source": [
    "matrix=[[1,2,3,4],[5,6,7,8],[9,10,11,12]];\n",
    "\n",
    "transpose=[[row[i] for row in matrix] for i in range(4)]\n",
    "\n",
    "print(transpose)"
   ]
  }
 ],
 "metadata": {
  "interpreter": {
   "hash": "a94cb8a17de1e532d431b0be83bf665b09cfcc9ac1d9ac0f30f86e2055d015be"
  },
  "kernelspec": {
   "display_name": "Python 3.7.6 64-bit ('base': conda)",
   "language": "python",
   "name": "python3"
  },
  "language_info": {
   "codemirror_mode": {
    "name": "ipython",
    "version": 3
   },
   "file_extension": ".py",
   "mimetype": "text/x-python",
   "name": "python",
   "nbconvert_exporter": "python",
   "pygments_lexer": "ipython3",
   "version": "3.7.6"
  },
  "orig_nbformat": 4
 },
 "nbformat": 4,
 "nbformat_minor": 2
}
