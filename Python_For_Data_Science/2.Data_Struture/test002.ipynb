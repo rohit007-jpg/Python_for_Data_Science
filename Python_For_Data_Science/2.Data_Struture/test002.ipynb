{
 "cells": [
  {
   "cell_type": "markdown",
   "metadata": {},
   "source": [
    "# Python Program for Transpose of a given Matrix "
   ]
  },
  {
   "cell_type": "code",
   "execution_count": null,
   "metadata": {},
   "outputs": [],
   "source": [
    "matrix = [\n",
    "\n",
    "[1, 2, 3, 4],\n",
    "\n",
    "[5, 6, 7, 8],\n",
    "\n",
    "[9, 10, 11, 12]]\n",
    "\n",
    "transposed = []\n",
    "\n",
    "for i in range(4):\n",
    "\n",
    "\tprint(\"we are going to take the \",i,\"th element of each row\")\n",
    "\n",
    "\tlst = []\n",
    "\n",
    "\tfor row in matrix:\n",
    "\n",
    "\t\tprint(\"the row we are considering :\", row, \"and we are going to add\", row[i],\"to a temporary list\")\n",
    "\n",
    "\t\tlst.append(row[i])\n",
    "\n",
    "\tprint(\"the \",i,\"th column elements = \", i ,\"th elements in every row are =\", lst)\n",
    "\n",
    "\ttransposed.append(lst)\n",
    "\n",
    "\tprint(\"=\"*90)\n",
    "\n",
    "print(transposed)"
   ]
  },
  {
   "cell_type": "markdown",
   "metadata": {},
   "source": [
    "# Python Program to find the Transpose of a matrix using List Comprehension "
   ]
  },
  {
   "cell_type": "code",
   "execution_count": null,
   "metadata": {},
   "outputs": [],
   "source": [
    "matrix=[[1,2,3,4],[5,6,7,8],[9,10,11,12]];\n",
    "\n",
    "transpose=[[row[i] for row in matrix] for i in range(4)]\n",
    "\n",
    "print(transpose)"
   ]
  },
  {
   "cell_type": "markdown",
   "metadata": {},
   "source": [
    "# Python Program to take a matrix from user and find the transpose of that matrix"
   ]
  },
  {
   "cell_type": "code",
   "execution_count": null,
   "metadata": {},
   "outputs": [],
   "source": [
    "r=int(input(\"Enter the rows of the matrix : \"));\n",
    "c=int(input(\"Enter the column of the matrix : \"));\n",
    "#Making matrix from the user's input\n",
    "matrix=[];\n",
    "for row in range(r):\n",
    "    lst=[];\n",
    "    for col in range(c):\n",
    "        lst.append(int(input(\"Enter the {}th row and {}th column: \".format(row,col))));\n",
    "    matrix.append(lst);\n",
    "print(matrix);\n",
    "\n",
    "#Finding Transpose of the matrix\n",
    "\n",
    "transpose=[];\n",
    "for i in range(c):\n",
    "    lst=[]\n",
    "    for row in matrix:\n",
    "        lst.append(row[i]);\n",
    "    transpose.append(lst);\n",
    "print(transpose)\n",
    "            \n",
    "        \n",
    "\n"
   ]
  },
  {
   "cell_type": "code",
   "execution_count": 2,
   "metadata": {},
   "outputs": [
    {
     "name": "stdout",
     "output_type": "stream",
     "text": [
      "2\n",
      "2\n"
     ]
    }
   ],
   "source": [
    "t=(1,2,3,4)\n",
    "print(t.index(3));\n",
    "\n",
    "lst=[1,2,3,4]\n",
    "print(lst.index(3))"
   ]
  },
  {
   "cell_type": "code",
   "execution_count": 3,
   "metadata": {},
   "outputs": [
    {
     "name": "stdout",
     "output_type": "stream",
     "text": [
      "<class 'tuple'>\n",
      "('rohit',)\n",
      "<class 'tuple'>\n",
      "('amit', 'rohit')\n"
     ]
    }
   ],
   "source": [
    "t=(\"amit\",)\n",
    "print(type(t))\n",
    "\n",
    "t1= \"rohit\",\n",
    "print(t1)\n",
    "print(type(t1))\n",
    "\n",
    "x=t+t1\n",
    "print(x)"
   ]
  },
  {
   "cell_type": "code",
   "execution_count": 6,
   "metadata": {},
   "outputs": [
    {
     "name": "stdout",
     "output_type": "stream",
     "text": [
      "<class 'tuple'>\n",
      "['__add__', '__class__', '__contains__', '__delattr__', '__dir__', '__doc__', '__eq__', '__format__', '__ge__', '__getattribute__', '__getitem__', '__getnewargs__', '__gt__', '__hash__', '__init__', '__init_subclass__', '__iter__', '__le__', '__len__', '__lt__', '__mul__', '__ne__', '__new__', '__reduce__', '__reduce_ex__', '__repr__', '__rmul__', '__setattr__', '__sizeof__', '__str__', '__subclasshook__', 'count', 'index']\n"
     ]
    }
   ],
   "source": [
    "t=()\n",
    "print(type(t))\n",
    "print(dir(t))\n"
   ]
  }
 ],
 "metadata": {
  "interpreter": {
   "hash": "a94cb8a17de1e532d431b0be83bf665b09cfcc9ac1d9ac0f30f86e2055d015be"
  },
  "kernelspec": {
   "display_name": "Python 3.7.6 64-bit ('base': conda)",
   "language": "python",
   "name": "python3"
  },
  "language_info": {
   "codemirror_mode": {
    "name": "ipython",
    "version": 3
   },
   "file_extension": ".py",
   "mimetype": "text/x-python",
   "name": "python",
   "nbconvert_exporter": "python",
   "pygments_lexer": "ipython3",
   "version": "3.7.6"
  },
  "orig_nbformat": 4
 },
 "nbformat": 4,
 "nbformat_minor": 2
}
