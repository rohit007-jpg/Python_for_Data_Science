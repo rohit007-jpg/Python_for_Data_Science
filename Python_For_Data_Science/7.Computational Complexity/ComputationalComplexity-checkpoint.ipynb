{
 "cells": [
  {
   "cell_type": "code",
   "execution_count": 18,
   "metadata": {},
   "outputs": [
    {
     "name": "stdout",
     "output_type": "stream",
     "text": [
      "[44, 63, 33, 70, 17, 67, 11, 39, 49, 19, 2, 27, 41, 50, 10, 6, 64, 5, 7, 0, 87, 92, 23, 79, 31, 75, 77, 88, 55, 29, 99, 1, 90, 37, 53, 85, 76, 59, 58, 89, 22, 83, 45, 54, 65, 80, 36, 71, 91, 16, 28, 42, 66, 47, 8, 25, 68, 95, 73, 46, 56, 96, 24, 35, 15, 86, 57, 48, 93, 82, 51, 69, 20, 98, 4, 30, 81, 61, 32, 18, 62, 43, 78, 38, 84, 72, 3, 13, 74, 14, 40, 26, 52, 12, 94, 60, 34, 97, 9, 21]\n"
     ]
    }
   ],
   "source": [
    "import numpy as np\n",
    "import random\n",
    "\n",
    "l = list(range(100))\n",
    "random.shuffle(l)\n",
    "print(l)"
   ]
  },
  {
   "cell_type": "code",
   "execution_count": 21,
   "metadata": {},
   "outputs": [
    {
     "name": "stdout",
     "output_type": "stream",
     "text": [
      "31\n"
     ]
    }
   ],
   "source": [
    "print(l[24])"
   ]
  },
  {
   "cell_type": "code",
   "execution_count": 20,
   "metadata": {},
   "outputs": [
    {
     "name": "stdout",
     "output_type": "stream",
     "text": [
      "31 is found after 24 comparision\n"
     ]
    }
   ],
   "source": [
    "# search for an element q in the list: O(n) where n is the length of the list\n",
    "q = 100 #Here, is our query point\n",
    "isFound=False;\n",
    "count=0;\n",
    "for ele in l:   #It runs for n unit of time o(n)\n",
    "    if ele==31:\n",
    "        print(\"{} is found after {} comparision\".format(ele, count))\n",
    "        isFound=True\n",
    "        break;\n",
    "    count+=1;\n",
    "if isFound == False:\n",
    "    print(\"Not Found\")  \n"
   ]
  },
  {
   "cell_type": "code",
   "execution_count": 5,
   "metadata": {},
   "outputs": [
    {
     "data": {
      "text/plain": [
       "31"
      ]
     },
     "execution_count": 5,
     "metadata": {},
     "output_type": "execute_result"
    }
   ],
   "source": [
    "#What if the list is sorted? Can we search faster?\n",
    "# Show O(log n)\n",
    "\n",
    "import math\n",
    "\n",
    "#Source: http://www.geeksforgeeks.org/binary-search/ \n",
    "#Returns index of x in arr if present, else -1\n",
    "def binarySearch (arr, l, r, x):\n",
    " \n",
    "    # Check base case\n",
    "    if r >= l:\n",
    " \n",
    "        mid = l + math.floor((r - l)/2)\n",
    " \n",
    "        # If element is present at the middle itself\n",
    "        if arr[mid] == x:\n",
    "            return mid\n",
    "         \n",
    "        # If element is smaller than mid, then it can only\n",
    "        # be present in left subarray\n",
    "        elif arr[mid] > x:\n",
    "            return binarySearch(arr, l, mid-1, x)\n",
    " \n",
    "        # Else the element can only be present in right subarray\n",
    "        else:\n",
    "            return binarySearch(arr, mid+1, r, x)\n",
    " \n",
    "    else:\n",
    "        # Element is not present in the array\n",
    "        return -1\n",
    "\n",
    "\n",
    "l.sort();\n",
    "arr = l;\n",
    "q =31;\n",
    "binarySearch(arr,0,len(arr)-1,q)\n",
    "\n"
   ]
  },
  {
   "cell_type": "code",
   "execution_count": 22,
   "metadata": {},
   "outputs": [
    {
     "name": "stdout",
     "output_type": "stream",
     "text": [
      "43\n",
      "44\n",
      "46\n",
      "38\n",
      "47\n",
      "35\n",
      "45\n",
      "36\n",
      "34\n",
      "41\n",
      "4\n",
      "28\n",
      "18\n",
      "19\n",
      "40\n",
      "29\n",
      "12\n",
      "7\n",
      "33\n",
      "23\n",
      "1\n",
      "30\n",
      "42\n",
      "20\n",
      "8\n",
      "6\n",
      "24\n",
      "22\n",
      "14\n",
      "27\n",
      "48\n",
      "26\n",
      "13\n",
      "39\n",
      "17\n",
      "11\n",
      "0\n",
      "25\n",
      "37\n",
      "10\n",
      "49\n",
      "2\n",
      "9\n",
      "31\n",
      "21\n",
      "32\n",
      "16\n",
      "3\n",
      "5\n",
      "15\n",
      "Number of common elements: 50\n"
     ]
    }
   ],
   "source": [
    "# Find elements common in two lists:\n",
    "l1 = list(range(100))\n",
    "random.shuffle(l1)\n",
    "\n",
    "l2 = list(range(50))\n",
    "random.shuffle(l2)\n",
    "\n",
    "# find common elements : O(n*m)\n",
    "cnt=0;\n",
    "for i in l1:\n",
    "    for j in l2:\n",
    "        if i==j:\n",
    "            print(i)\n",
    "            cnt += 1;\n",
    "print(\"Number of common elements:\", cnt)                      "
   ]
  },
  {
   "cell_type": "code",
   "execution_count": 24,
   "metadata": {},
   "outputs": [
    {
     "name": "stdout",
     "output_type": "stream",
     "text": [
      "21\n",
      "44\n",
      "17\n",
      "30\n",
      "23\n",
      "2\n",
      "15\n",
      "37\n",
      "24\n",
      "29\n",
      "45\n",
      "10\n",
      "32\n",
      "7\n",
      "19\n",
      "36\n",
      "47\n",
      "14\n",
      "41\n",
      "16\n",
      "5\n",
      "42\n",
      "34\n",
      "33\n",
      "39\n",
      "0\n",
      "31\n",
      "1\n",
      "27\n",
      "35\n",
      "22\n",
      "8\n",
      "46\n",
      "20\n",
      "18\n",
      "13\n",
      "25\n",
      "3\n",
      "26\n",
      "12\n",
      "40\n",
      "49\n",
      "4\n",
      "6\n",
      "11\n",
      "9\n",
      "38\n",
      "28\n",
      "48\n",
      "43\n",
      "Number of common elements: 50\n"
     ]
    }
   ],
   "source": [
    "# Find elements common in two lists:\n",
    "l1 = list(range(100))\n",
    "random.shuffle(l1)\n",
    "\n",
    "\n",
    "l2 = list(range(50))\n",
    "random.shuffle(l2)\n",
    "\n",
    "# find common elemnts in lists in O(n) time and O(m) space if m<n\n",
    "\n",
    "## add all elements in the smallest list into a hashtable/Dict: O(m) space\n",
    "smallList = {}\n",
    "for ele in l2:\n",
    "    smallList[ele] = 1; # any value is OK. Key is important\n",
    "    \n",
    "# Now find common element \n",
    "cnt=0;\n",
    "for i in l1:\n",
    "    if smallList.get(i) != None: # search happens in constant time.\n",
    "        print(i);\n",
    "        cnt += 1;\n",
    "print(\"Number of common elements:\", cnt)                      "
   ]
  },
  {
   "cell_type": "code",
   "execution_count": null,
   "metadata": {
    "collapsed": true
   },
   "outputs": [],
   "source": []
  }
 ],
 "metadata": {
  "kernelspec": {
   "display_name": "Python 3",
   "language": "python",
   "name": "python3"
  },
  "language_info": {
   "codemirror_mode": {
    "name": "ipython",
    "version": 3
   },
   "file_extension": ".py",
   "mimetype": "text/x-python",
   "name": "python",
   "nbconvert_exporter": "python",
   "pygments_lexer": "ipython3",
   "version": "3.7.1"
  }
 },
 "nbformat": 4,
 "nbformat_minor": 2
}
