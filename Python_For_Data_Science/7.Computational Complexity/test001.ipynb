{
 "cells": [
  {
   "cell_type": "code",
   "execution_count": 7,
   "metadata": {},
   "outputs": [
    {
     "name": "stdout",
     "output_type": "stream",
     "text": [
      "[33, 81, 10, 54, 82, 84, 28, 83, 68, 58, 95, 42, 35, 91, 27, 86, 63, 18, 16, 2, 25, 59, 20, 29, 6, 19, 39, 80, 50, 66, 48, 77, 23, 89, 87, 61, 24, 93, 73, 17, 99, 90, 8, 75, 4, 94, 56, 38, 31, 12, 36, 65, 22, 67, 64, 14, 40, 79, 21, 70, 11, 72, 44, 76, 32, 88, 9, 51, 43, 78, 57, 34, 47, 55, 45, 85, 74, 26, 92, 5, 98, 30, 60, 49, 7, 62, 0, 37, 3, 13, 69, 41, 52, 46, 97, 96, 71, 15, 1, 53]\n"
     ]
    }
   ],
   "source": [
    "import numpy as np\n",
    "import random\n",
    "\n",
    "l=list(range(100));\n",
    "random.shuffle(l);\n",
    "print(l);"
   ]
  },
  {
   "cell_type": "markdown",
   "metadata": {},
   "source": [
    "#  Binary Search a number in a given list "
   ]
  },
  {
   "cell_type": "code",
   "execution_count": 18,
   "metadata": {},
   "outputs": [
    {
     "name": "stdout",
     "output_type": "stream",
     "text": [
      "45\n"
     ]
    }
   ],
   "source": [
    "import math\n",
    "\n",
    "def binary_search(arr,s,e,q):\n",
    "    if e>=s:\n",
    "        mid=(s+e)//2;\n",
    "        if arr[mid]==q :\n",
    "            return mid;\n",
    "        elif arr[mid]>q:\n",
    "            e=mid-1;\n",
    "            return binary_search(arr,s,e,q);\n",
    "        else:\n",
    "            s=mid+1;\n",
    "            return binary_search(arr,s,e,q);\n",
    "    else:\n",
    "        print(\"Element is not present in the list\");\n",
    "l.sort()\n",
    "arr=l;\n",
    "s=0;\n",
    "e=len(arr)-1\n",
    "q=45\n",
    "print(binary_search(arr,s,e,q));"
   ]
  },
  {
   "cell_type": "markdown",
   "metadata": {},
   "source": [
    "# Finding the common elements in two given random shuffle list"
   ]
  },
  {
   "cell_type": "code",
   "execution_count": 28,
   "metadata": {},
   "outputs": [
    {
     "name": "stdout",
     "output_type": "stream",
     "text": [
      "[6, 0, 1, 15, 14, 2, 17, 12, 9, 5, 10, 18, 8, 4, 11, 3, 19, 16, 13, 7]\n",
      "[9, 0, 3, 1, 2, 4, 7, 5, 6, 8]\n",
      "6 0 1 2 9 5 8 4 3 7 \n",
      "The number of common elements are 10\n"
     ]
    }
   ],
   "source": [
    "import random\n",
    "\n",
    "l1=list(range(20));\n",
    "random.shuffle(l1);\n",
    "print(l1);\n",
    "\n",
    "l2=list(range(10));\n",
    "random.shuffle(l2);\n",
    "print(l2)\n",
    "\n",
    "count=0;\n",
    "for i in l1:\n",
    "    for j in l2:\n",
    "        if i==j:\n",
    "            print(i,end=\" \");\n",
    "            count+=1;\n",
    "\n",
    "print(\"\\nThe number of common elements are {}\".format(count))\n"
   ]
  },
  {
   "cell_type": "markdown",
   "metadata": {},
   "source": [
    "# Finding elements common in two list using Hash Funtion \n"
   ]
  },
  {
   "cell_type": "code",
   "execution_count": 31,
   "metadata": {},
   "outputs": [
    {
     "name": "stdout",
     "output_type": "stream",
     "text": [
      "{9: 1, 4: 1, 5: 1, 2: 1, 1: 1, 6: 1, 3: 1, 0: 1, 8: 1, 7: 1}\n",
      "6\n",
      "8\n",
      "4\n",
      "2\n",
      "0\n",
      "1\n",
      "5\n",
      "3\n",
      "9\n",
      "7\n",
      "The number of common element are 10\n"
     ]
    }
   ],
   "source": [
    "import random\n",
    "\n",
    "l1=list(range(20));\n",
    "random.shuffle(l1);\n",
    "\n",
    "l2=list(range(10));\n",
    "random.shuffle(l2);\n",
    "\n",
    "mydict={};\n",
    "for i in l2:    #take the smallest list and convert it into dict giving any randon value. Here we are concerned with key\n",
    "    mydict[i]=1;\n",
    "print(mydict)\n",
    "\n",
    "count=0;\n",
    "for i in l1:\n",
    "    if mydict.get(i) != None:\n",
    "        print(i);\n",
    "        count+=1;\n",
    "print(\"The number of common element are {}\".format(count));\n",
    "\n"
   ]
  }
 ],
 "metadata": {
  "interpreter": {
   "hash": "2a94a74c170adcc46cee1ea003c95c3d7ee19eb486991d6a9ce0fbda65e8dc11"
  },
  "kernelspec": {
   "display_name": "Python 3.7.1 64-bit ('base': conda)",
   "language": "python",
   "name": "python3"
  },
  "language_info": {
   "codemirror_mode": {
    "name": "ipython",
    "version": 3
   },
   "file_extension": ".py",
   "mimetype": "text/x-python",
   "name": "python",
   "nbconvert_exporter": "python",
   "pygments_lexer": "ipython3",
   "version": "3.7.1"
  },
  "orig_nbformat": 4
 },
 "nbformat": 4,
 "nbformat_minor": 2
}
